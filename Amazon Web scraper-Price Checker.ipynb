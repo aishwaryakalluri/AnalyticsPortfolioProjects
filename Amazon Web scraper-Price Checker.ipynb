{
 "cells": [
  {
   "cell_type": "code",
   "execution_count": 3,
   "id": "3976f308",
   "metadata": {},
   "outputs": [],
   "source": [
    "# Import Libraries\n",
    "\n",
    "from bs4 import BeautifulSoup\n",
    "import requests\n",
    "import time\n",
    "import datetime\n",
    "import csv\n",
    "import pandas as pd\n",
    "\n",
    "import smtplib\n"
   ]
  },
  {
   "cell_type": "code",
   "execution_count": 31,
   "id": "bd558f8d",
   "metadata": {},
   "outputs": [
    {
     "name": "stdout",
     "output_type": "stream",
     "text": [
      "NOGAIYA Glass Pendant Ceiling Hanging Lamp (Clear)\n",
      "799\n"
     ]
    }
   ],
   "source": [
    "#Connect to website\n",
    "\n",
    "URL = 'https://www.amazon.in/Nogaiya-Glass-Pendant-Ceiling-Hanging/dp/B08BP9QMFC/?_encoding=UTF8&pd_rd_w=TeCjc&content-id=amzn1.sym.7c0639cc-01b1-4655-8b88-a71d79ef847a&pf_rd_p=7c0639cc-01b1-4655-8b88-a71d79ef847a&pf_rd_r=0Y6E2ZC1WNC1X572G6BG&pd_rd_wg=ah1Hv&pd_rd_r=b6202ce2-b8b8-434b-9d5a-596aab76e3cb&ref_=pd_gw_unk'\n",
    "\n",
    "headers = { \"User-Agent\": \"Mozilla/5.0 (Windows NT 10.0; Win64; x64) AppleWebKit/537.36 (KHTML, like Gecko) Chrome/111.0.0.0 Safari/537.36\", \n",
    "    \"X-Amzn-Trace-Id\": \"Root=1-641c0629-7f6f860d66a0502012976988\"}\n",
    "\n",
    "page = requests.get(URL, headers=headers)\n",
    "\n",
    "#Pulling data\n",
    "\n",
    "soup1 = BeautifulSoup(page.content,\"html.parser\")\n",
    "\n",
    "soup2 = BeautifulSoup(soup1.prettify(),\"html.parser\")\n",
    "\n",
    "title=soup2.find(id=\"productTitle\").get_text()\n",
    "title=title.strip()\n",
    "\n",
    "price=soup2.find(id=\"corePriceDisplay_desktop_feature_div\").get_text()\n",
    "\n",
    "#Data Cleaning\n",
    "\n",
    "#k=price.find(\"799\")\n",
    "#print(k)\n",
    "#type(price)\n",
    "#price.strip()\n",
    "\n",
    "price_new=(price[49] + price[50] + price[51])\n",
    "print (title)\n",
    "print (price_new)\n"
   ]
  },
  {
   "cell_type": "code",
   "execution_count": 32,
   "id": "39263de8",
   "metadata": {},
   "outputs": [
    {
     "name": "stdout",
     "output_type": "stream",
     "text": [
      "2023-03-24\n"
     ]
    }
   ],
   "source": [
    "#to get date\n",
    "#import datetime\n",
    "\n",
    "today=datetime.date.today()\n",
    "print(today)"
   ]
  },
  {
   "cell_type": "code",
   "execution_count": 33,
   "id": "a889abb3",
   "metadata": {},
   "outputs": [],
   "source": [
    "#Importing the data into a csv file\n",
    "#import csv\n",
    "\n",
    "#Need headers and the corresponding data\n",
    "header = ['Title','Price','Date']\n",
    "data=[title, price_new, today]   #the ones that were scrapped\n",
    "\n",
    "with open('AmazonWebScrappedData.csv', 'w', newline='', encoding = 'UTF8') as f:\n",
    "    writer=csv.writer(f)\n",
    "    writer.writerow(header)\n",
    "    writer.writerow(data)\n",
    "   "
   ]
  },
  {
   "cell_type": "code",
   "execution_count": 34,
   "id": "12723abb",
   "metadata": {},
   "outputs": [
    {
     "name": "stdout",
     "output_type": "stream",
     "text": [
      "                                               Title  Price        Date\n",
      "0  NOGAIYA Glass Pendant Ceiling Hanging Lamp (Cl...    799  2023-03-24\n"
     ]
    }
   ],
   "source": [
    "#Display the contents of csv instead of opening everytime\n",
    "#import pandas as pd\n",
    "\n",
    "df=pd.read_csv(r'C:\\Users\\Aishwarya Kalluri\\AmazonWebScrappedData.csv')\n",
    "print(df)"
   ]
  },
  {
   "cell_type": "code",
   "execution_count": null,
   "id": "4b7b81c7",
   "metadata": {},
   "outputs": [],
   "source": [
    "#Appending data to csv\n",
    "\n",
    "with open('AmazonWebScrappedData.csv', 'a+', newline='', encoding = 'UTF8') as f:\n",
    "    writer=csv.writer(f)\n",
    "    writer.writerow(data)\n",
    "\n"
   ]
  },
  {
   "cell_type": "code",
   "execution_count": null,
   "id": "ba2732ef",
   "metadata": {},
   "outputs": [],
   "source": [
    "#Automation\n",
    "\n",
    "def check_price():\n",
    "    URL = 'https://www.amazon.in/Nogaiya-Glass-Pendant-Ceiling-Hanging/dp/B08BP9QMFC/?_encoding=UTF8&pd_rd_w=TeCjc&content-id=amzn1.sym.7c0639cc-01b1-4655-8b88-a71d79ef847a&pf_rd_p=7c0639cc-01b1-4655-8b88-a71d79ef847a&pf_rd_r=0Y6E2ZC1WNC1X572G6BG&pd_rd_wg=ah1Hv&pd_rd_r=b6202ce2-b8b8-434b-9d5a-596aab76e3cb&ref_=pd_gw_unk'\n",
    "\n",
    "    headers = { \"User-Agent\": \"Mozilla/5.0 (Windows NT 10.0; Win64; x64) AppleWebKit/537.36 (KHTML, like Gecko) Chrome/111.0.0.0 Safari/537.36\", \n",
    "    \"X-Amzn-Trace-Id\": \"Root=1-641c0629-7f6f860d66a0502012976988\"}\n",
    "\n",
    "    page = requests.get(URL, headers=headers)\n",
    "\n",
    "    #Pulling data\n",
    "\n",
    "    soup1 = BeautifulSoup(page.content,\"html.parser\")\n",
    "\n",
    "    soup2 = BeautifulSoup(soup1.prettify(),\"html.parser\")\n",
    "\n",
    "    title=soup2.find(id=\"productTitle\").get_text()\n",
    "    title=title.strip()\n",
    "\n",
    "    price=soup2.find(id=\"corePriceDisplay_desktop_feature_div\").get_text()\n",
    "    price_new=(price[49] + price[50] + price[51])\n",
    "    \n",
    "    import datetime\n",
    "\n",
    "    today=datetime.date.today()\n",
    "    \n",
    "    import csv\n",
    "\n",
    "    #Need headers and the corresponding data\n",
    "    header = ['Title','Price','Date']\n",
    "    data=[title, price_new, today]   #the ones that were scrapped\n",
    "    \n",
    "    #Appending data to csv\n",
    "\n",
    "    with open('AmazonWebScrappedData.csv', 'a+', newline='', encoding = 'UTF8') as f:\n",
    "        writer=csv.writer(f)\n",
    "        writer.writerow(data)\n",
    "\n",
    "    "
   ]
  },
  {
   "cell_type": "code",
   "execution_count": null,
   "id": "4dabda51",
   "metadata": {},
   "outputs": [],
   "source": [
    "#timer\n",
    "\n",
    "while(true):\n",
    "    check_price\n",
    "    time.sleep(86400)#time in seconds"
   ]
  },
  {
   "cell_type": "code",
   "execution_count": null,
   "id": "aaecd3a9",
   "metadata": {},
   "outputs": [],
   "source": [
    "import pandas as pd\n",
    "\n",
    "df=pd.read_csv(r'C:\\Users\\Aishwarya Kalluri\\AmazonWebScrappedData.csv')\n",
    "print(df)"
   ]
  }
 ],
 "metadata": {
  "kernelspec": {
   "display_name": "Python 3",
   "language": "python",
   "name": "python3"
  },
  "language_info": {
   "codemirror_mode": {
    "name": "ipython",
    "version": 3
   },
   "file_extension": ".py",
   "mimetype": "text/x-python",
   "name": "python",
   "nbconvert_exporter": "python",
   "pygments_lexer": "ipython3",
   "version": "3.8.8"
  }
 },
 "nbformat": 4,
 "nbformat_minor": 5
}
