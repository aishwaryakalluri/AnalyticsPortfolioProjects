{
 "cells": [
  {
   "cell_type": "code",
   "execution_count": 3,
   "id": "e64e96e5",
   "metadata": {},
   "outputs": [
    {
     "name": "stdout",
     "output_type": "stream",
     "text": [
      "Enter your nameAishwarya\n",
      "Enter your weight in Kilograms: 72\n",
      "Enter your height in Centimeters: 157\n",
      "29.21010994360826\n",
      "Aishwarya, You are overweight\n"
     ]
    }
   ],
   "source": [
    "name=input(\"Enter your name: \")\n",
    "weight=int(input(\"Enter your weight in Kilograms: \"))\n",
    "height=int(input(\"Enter your height in Centimeters: \"))\n",
    "BMI = (weight*10000)/(height*height)\n",
    "print( BMI)\n",
    "\n",
    "if BMI>0:\n",
    "    if(BMI<18.5):\n",
    "        print(name + \", You are underweight - Comeon! gorge on those chocolates just a little bit\")\n",
    "    elif(BMI<24.9):\n",
    "        print(name +\", You are normalweight - Way to go!\")\n",
    "    elif(BMI<29.9):\n",
    "        print(name +\", You are overweight - start exercising!\")\n",
    "    elif(BMI<34.9):\n",
    "        print(name +\", You are obese - start working out and burn that fat!\")\n",
    "    elif(BMI<23.9):\n",
    "        print(name +\", You are severely obsese - Cut down those carbs and run to the gym\")\n",
    "    else:\n",
    "        print(name +\", You are morbidly obese - Challenge yourself and take this test again in a month. Lets see what you get\")\n",
    "else: print(\"Enter valid inputs\")\n"
   ]
  },
  {
   "cell_type": "code",
   "execution_count": null,
   "id": "c991b313",
   "metadata": {},
   "outputs": [],
   "source": []
  }
 ],
 "metadata": {
  "kernelspec": {
   "display_name": "Python 3",
   "language": "python",
   "name": "python3"
  },
  "language_info": {
   "codemirror_mode": {
    "name": "ipython",
    "version": 3
   },
   "file_extension": ".py",
   "mimetype": "text/x-python",
   "name": "python",
   "nbconvert_exporter": "python",
   "pygments_lexer": "ipython3",
   "version": "3.8.8"
  }
 },
 "nbformat": 4,
 "nbformat_minor": 5
}
